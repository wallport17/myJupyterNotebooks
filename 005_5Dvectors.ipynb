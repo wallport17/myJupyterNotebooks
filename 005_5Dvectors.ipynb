{
 "cells": [
  {
   "cell_type": "code",
   "execution_count": 1,
   "id": "c2954c47",
   "metadata": {},
   "outputs": [],
   "source": [
    "import numpy as np"
   ]
  },
  {
   "cell_type": "code",
   "execution_count": 2,
   "id": "678460da",
   "metadata": {},
   "outputs": [],
   "source": [
    "from numpy.linalg import norm"
   ]
  },
  {
   "cell_type": "code",
   "execution_count": 16,
   "id": "96088e02",
   "metadata": {},
   "outputs": [],
   "source": [
    "from scipy.spatial.distance import cdist"
   ]
  },
  {
   "cell_type": "code",
   "execution_count": 17,
   "id": "9b75e66c",
   "metadata": {},
   "outputs": [],
   "source": [
    " a = np.array([1, -2, 16, 40, 0])\n",
    " b = np.array([3.16, 25, -3, -6.5, 108])\n",
    " \n",
    " c = a - b\n",
    " \n",
    " normC = norm(c, ord=2)\n",
    " normA = norm(a, ord=2)\n",
    " normB = norm(b, ord=2)\n",
    " normA_B = norm((a-b), ord=2)\n",
    " metricA_B = cdist(a[np.newaxis, :], b[np.newaxis, :], metric='euclidean')\n",
    " \n",
    " dotAB = np.dot(a,b)\n",
    "\n",
    " cos_angle = dotAB / (normA * normB)\n",
    " angle = np.arccos(cos_angle)"
   ]
  },
  {
   "cell_type": "code",
   "execution_count": 18,
   "id": "844d96eb",
   "metadata": {},
   "outputs": [
    {
     "name": "stdout",
     "output_type": "stream",
     "text": [
      "122.1511997485084\n"
     ]
    }
   ],
   "source": [
    "print(normC)"
   ]
  },
  {
   "cell_type": "code",
   "execution_count": 19,
   "id": "be069323",
   "metadata": {},
   "outputs": [
    {
     "name": "stdout",
     "output_type": "stream",
     "text": [
      "43.139309220245984\n"
     ]
    }
   ],
   "source": [
    "print(normA)"
   ]
  },
  {
   "cell_type": "code",
   "execution_count": 20,
   "id": "53ea6f98",
   "metadata": {},
   "outputs": [
    {
     "name": "stdout",
     "output_type": "stream",
     "text": [
      "111.13161386392262\n"
     ]
    }
   ],
   "source": [
    "print(normB)"
   ]
  },
  {
   "cell_type": "code",
   "execution_count": 21,
   "id": "6554762b",
   "metadata": {},
   "outputs": [
    {
     "name": "stdout",
     "output_type": "stream",
     "text": [
      "122.1511997485084\n"
     ]
    }
   ],
   "source": [
    "print(normA_B)"
   ]
  },
  {
   "cell_type": "code",
   "execution_count": 22,
   "id": "8caa90c3",
   "metadata": {},
   "outputs": [
    {
     "name": "stdout",
     "output_type": "stream",
     "text": [
      "[[122.15119975]]\n"
     ]
    }
   ],
   "source": [
    "print(metricA_B)"
   ]
  },
  {
   "cell_type": "code",
   "execution_count": 23,
   "id": "b482093d",
   "metadata": {},
   "outputs": [
    {
     "name": "stdout",
     "output_type": "stream",
     "text": [
      "-354.84000000000003\n"
     ]
    }
   ],
   "source": [
    "print(dotAB)"
   ]
  },
  {
   "cell_type": "code",
   "execution_count": 24,
   "id": "a7094ae0",
   "metadata": {},
   "outputs": [
    {
     "name": "stdout",
     "output_type": "stream",
     "text": [
      "-0.07401534413719323\n"
     ]
    }
   ],
   "source": [
    "print(cos_angle)"
   ]
  },
  {
   "cell_type": "code",
   "execution_count": 25,
   "id": "d07d8703",
   "metadata": {},
   "outputs": [
    {
     "name": "stdout",
     "output_type": "stream",
     "text": [
      "1.6448794174297847\n"
     ]
    }
   ],
   "source": [
    "print(angle)"
   ]
  }
 ],
 "metadata": {
  "kernelspec": {
   "display_name": "Python 3 (ipykernel)",
   "language": "python",
   "name": "python3"
  },
  "language_info": {
   "codemirror_mode": {
    "name": "ipython",
    "version": 3
   },
   "file_extension": ".py",
   "mimetype": "text/x-python",
   "name": "python",
   "nbconvert_exporter": "python",
   "pygments_lexer": "ipython3",
   "version": "3.10.9"
  }
 },
 "nbformat": 4,
 "nbformat_minor": 5
}
