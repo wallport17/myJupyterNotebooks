{
 "cells": [
  {
   "cell_type": "code",
   "execution_count": 1,
   "id": "0de80c80",
   "metadata": {},
   "outputs": [],
   "source": [
    "import numpy as np"
   ]
  },
  {
   "cell_type": "code",
   "execution_count": 2,
   "id": "4ce4e0c1",
   "metadata": {},
   "outputs": [],
   "source": [
    "from numpy.linalg import norm"
   ]
  },
  {
   "cell_type": "code",
   "execution_count": 3,
   "id": "2bf4a0d6",
   "metadata": {},
   "outputs": [],
   "source": [
    " a = np.array([1, -2, 16, 40, 0])\n",
    " b = np.array([3.16, 25, -3, -6.5, 108])\n",
    " \n",
    " c = a - b\n",
    " \n",
    " normC = norm(c, ord=2)\n",
    " normA = norm(a, ord=2)\n",
    " normB = norm(b, ord=2)\n",
    " normA_B = norm((a-b), ord=2)\n",
    " \n",
    " dotAB = np.dot(a,b)\n",
    "\n",
    " cos_angle = dotAB / (normA * normB)\n",
    " angle = np.arccos(cos_angle)"
   ]
  },
  {
   "cell_type": "code",
   "execution_count": 4,
   "id": "b34cf07f",
   "metadata": {},
   "outputs": [
    {
     "name": "stdout",
     "output_type": "stream",
     "text": [
      "122.1511997485084\n"
     ]
    }
   ],
   "source": [
    "print(normC)"
   ]
  },
  {
   "cell_type": "code",
   "execution_count": 5,
   "id": "1fd43ac5",
   "metadata": {},
   "outputs": [
    {
     "name": "stdout",
     "output_type": "stream",
     "text": [
      "43.139309220245984\n"
     ]
    }
   ],
   "source": [
    "print(normA)"
   ]
  },
  {
   "cell_type": "code",
   "execution_count": 6,
   "id": "b934f92e",
   "metadata": {},
   "outputs": [
    {
     "name": "stdout",
     "output_type": "stream",
     "text": [
      "111.13161386392262\n"
     ]
    }
   ],
   "source": [
    "print(normB)"
   ]
  },
  {
   "cell_type": "code",
   "execution_count": 11,
   "id": "1be51b09",
   "metadata": {},
   "outputs": [
    {
     "name": "stdout",
     "output_type": "stream",
     "text": [
      "122.1511997485084\n"
     ]
    }
   ],
   "source": [
    "print(normA_B)"
   ]
  },
  {
   "cell_type": "code",
   "execution_count": 12,
   "id": "3cce9719",
   "metadata": {},
   "outputs": [
    {
     "name": "stdout",
     "output_type": "stream",
     "text": [
      "-354.84000000000003\n"
     ]
    }
   ],
   "source": [
    "print(dotAB)"
   ]
  },
  {
   "cell_type": "code",
   "execution_count": null,
   "id": "32ba4c56",
   "metadata": {},
   "outputs": [],
   "source": []
  },
  {
   "cell_type": "code",
   "execution_count": null,
   "id": "abb7053c",
   "metadata": {},
   "outputs": [],
   "source": []
  },
  {
   "cell_type": "code",
   "execution_count": null,
   "id": "b97a10b5",
   "metadata": {},
   "outputs": [],
   "source": []
  }
 ],
 "metadata": {
  "kernelspec": {
   "display_name": "Python 3 (ipykernel)",
   "language": "python",
   "name": "python3"
  },
  "language_info": {
   "codemirror_mode": {
    "name": "ipython",
    "version": 3
   },
   "file_extension": ".py",
   "mimetype": "text/x-python",
   "name": "python",
   "nbconvert_exporter": "python",
   "pygments_lexer": "ipython3",
   "version": "3.10.9"
  }
 },
 "nbformat": 4,
 "nbformat_minor": 5
}
