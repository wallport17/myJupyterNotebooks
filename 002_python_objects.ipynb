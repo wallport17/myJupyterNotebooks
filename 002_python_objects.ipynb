{
 "cells": [
  {
   "cell_type": "markdown",
   "id": "6769e345",
   "metadata": {},
   "source": [
    "# Classes and Objects in Python"
   ]
  },
  {
   "cell_type": "markdown",
   "id": "e99144db",
   "metadata": {},
   "source": [
    "In Python, everything is an object"
   ]
  },
  {
   "cell_type": "markdown",
   "id": "61228f75",
   "metadata": {},
   "source": [
    "### Types"
   ]
  },
  {
   "cell_type": "markdown",
   "id": "7262e706",
   "metadata": {},
   "source": [
    "- int\n",
    "- float\n",
    "- String\n",
    "- List\n",
    "- Dictionary\n",
    "- Bool"
   ]
  },
  {
   "cell_type": "code",
   "execution_count": 1,
   "id": "dd6f7811",
   "metadata": {},
   "outputs": [
    {
     "name": "stdout",
     "output_type": "stream",
     "text": [
      "<class 'int'>\n"
     ]
    }
   ],
   "source": [
    "a = 5\n",
    "print(type(a))"
   ]
  },
  {
   "cell_type": "code",
   "execution_count": 2,
   "id": "dc22a903",
   "metadata": {},
   "outputs": [],
   "source": [
    " a_list = [2,5,2,8,12,6,2]"
   ]
  },
  {
   "cell_type": "code",
   "execution_count": 3,
   "id": "0914df85",
   "metadata": {},
   "outputs": [
    {
     "name": "stdout",
     "output_type": "stream",
     "text": [
      "[2, 2, 2, 5, 6, 8, 12]\n"
     ]
    }
   ],
   "source": [
    "a_list.sort()\n",
    "print(a_list)"
   ]
  },
  {
   "cell_type": "markdown",
   "id": "d5ba753a",
   "metadata": {},
   "source": [
    "## Create your own class"
   ]
  },
  {
   "cell_type": "code",
   "execution_count": 4,
   "id": "6dcb27c2",
   "metadata": {},
   "outputs": [],
   "source": [
    "class My_first_class:\n",
    "    i = 5\n",
    "    def f(x):\n",
    "        return x**2"
   ]
  },
  {
   "cell_type": "code",
   "execution_count": 7,
   "id": "a1cecb1c",
   "metadata": {},
   "outputs": [],
   "source": [
    "my_object = My_first_class"
   ]
  },
  {
   "cell_type": "code",
   "execution_count": 13,
   "id": "865837c8",
   "metadata": {},
   "outputs": [
    {
     "data": {
      "text/plain": [
       "5"
      ]
     },
     "execution_count": 13,
     "metadata": {},
     "output_type": "execute_result"
    }
   ],
   "source": [
    " my_object.i"
   ]
  },
  {
   "cell_type": "code",
   "execution_count": 14,
   "id": "5e11a450",
   "metadata": {},
   "outputs": [
    {
     "data": {
      "text/plain": [
       "9"
      ]
     },
     "execution_count": 14,
     "metadata": {},
     "output_type": "execute_result"
    }
   ],
   "source": [
    "my_object.f(3)"
   ]
  },
  {
   "cell_type": "code",
   "execution_count": 15,
   "id": "7b96163a",
   "metadata": {},
   "outputs": [],
   "source": [
    "class My_first_class:\n",
    "    i = 5\n",
    "    def f(x):\n",
    "        return x**2\n",
    "    def __init__(self, ivalue):\n",
    "        self.i = ivalue"
   ]
  },
  {
   "cell_type": "code",
   "execution_count": 16,
   "id": "6841d71c",
   "metadata": {},
   "outputs": [],
   "source": [
    "x = My_first_class(800)"
   ]
  },
  {
   "cell_type": "code",
   "execution_count": 18,
   "id": "d0b94ce4",
   "metadata": {},
   "outputs": [
    {
     "data": {
      "text/plain": [
       "800"
      ]
     },
     "execution_count": 18,
     "metadata": {},
     "output_type": "execute_result"
    }
   ],
   "source": [
    "x.i"
   ]
  },
  {
   "cell_type": "code",
   "execution_count": null,
   "id": "426991fa",
   "metadata": {},
   "outputs": [],
   "source": []
  }
 ],
 "metadata": {
  "kernelspec": {
   "display_name": "Python 3 (ipykernel)",
   "language": "python",
   "name": "python3"
  },
  "language_info": {
   "codemirror_mode": {
    "name": "ipython",
    "version": 3
   },
   "file_extension": ".py",
   "mimetype": "text/x-python",
   "name": "python",
   "nbconvert_exporter": "python",
   "pygments_lexer": "ipython3",
   "version": "3.10.9"
  }
 },
 "nbformat": 4,
 "nbformat_minor": 5
}
