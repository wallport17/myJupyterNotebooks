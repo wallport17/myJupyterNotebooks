{
 "cells": [
  {
   "cell_type": "markdown",
   "id": "2a809fa6",
   "metadata": {},
   "source": [
    "# Classes and Objects in Python"
   ]
  },
  {
   "cell_type": "markdown",
   "id": "b01c2dbc",
   "metadata": {},
   "source": [
    "In Python, everything is an object"
   ]
  },
  {
   "cell_type": "markdown",
   "id": "81dc634e",
   "metadata": {},
   "source": [
    "### Types"
   ]
  },
  {
   "cell_type": "markdown",
   "id": "df0b93aa",
   "metadata": {},
   "source": [
    "- int\n",
    "- float\n",
    "- String\n",
    "- List\n",
    "- Dictionary\n",
    "- Bool"
   ]
  },
  {
   "cell_type": "code",
   "execution_count": 1,
   "id": "f9cff4d7",
   "metadata": {},
   "outputs": [
    {
     "name": "stdout",
     "output_type": "stream",
     "text": [
      "<class 'int'>\n"
     ]
    }
   ],
   "source": [
    "a = 5\n",
    "print(type(a))"
   ]
  },
  {
   "cell_type": "code",
   "execution_count": 2,
   "id": "4518966a",
   "metadata": {},
   "outputs": [],
   "source": [
    " a_list = [2,5,2,8,12,6,2]"
   ]
  },
  {
   "cell_type": "code",
   "execution_count": 3,
   "id": "5c6b4470",
   "metadata": {},
   "outputs": [
    {
     "name": "stdout",
     "output_type": "stream",
     "text": [
      "[2, 2, 2, 5, 6, 8, 12]\n"
     ]
    }
   ],
   "source": [
    "a_list.sort()\n",
    "print(a_list)"
   ]
  },
  {
   "cell_type": "markdown",
   "id": "f4c11057",
   "metadata": {},
   "source": [
    "## Create your own class"
   ]
  },
  {
   "cell_type": "code",
   "execution_count": 4,
   "id": "5c26b039",
   "metadata": {},
   "outputs": [],
   "source": [
    "class My_first_class:\n",
    "    i = 5\n",
    "    def f(x):\n",
    "        return x**2"
   ]
  },
  {
   "cell_type": "code",
   "execution_count": 7,
   "id": "499cb7b1",
   "metadata": {},
   "outputs": [],
   "source": [
    "my_object = My_first_class"
   ]
  },
  {
   "cell_type": "code",
   "execution_count": 13,
   "id": "51e73bf7",
   "metadata": {},
   "outputs": [
    {
     "data": {
      "text/plain": [
       "5"
      ]
     },
     "execution_count": 13,
     "metadata": {},
     "output_type": "execute_result"
    }
   ],
   "source": [
    " my_object.i"
   ]
  },
  {
   "cell_type": "code",
   "execution_count": 14,
   "id": "c13050c7",
   "metadata": {},
   "outputs": [
    {
     "data": {
      "text/plain": [
       "9"
      ]
     },
     "execution_count": 14,
     "metadata": {},
     "output_type": "execute_result"
    }
   ],
   "source": [
    "my_object.f(3)"
   ]
  },
  {
   "cell_type": "code",
   "execution_count": 15,
   "id": "6d7e60e1",
   "metadata": {},
   "outputs": [],
   "source": [
    "class My_first_class:\n",
    "    i = 5\n",
    "    def f(x):\n",
    "        return x**2\n",
    "    def __init__(self, ivalue):\n",
    "        self.i = ivalue"
   ]
  },
  {
   "cell_type": "code",
   "execution_count": 16,
   "id": "e1f1477d",
   "metadata": {},
   "outputs": [],
   "source": [
    "x = My_first_class(800)"
   ]
  },
  {
   "cell_type": "code",
   "execution_count": 17,
   "id": "d59ea17c",
   "metadata": {},
   "outputs": [
    {
     "data": {
      "text/plain": [
       "800"
      ]
     },
     "execution_count": 17,
     "metadata": {},
     "output_type": "execute_result"
    }
   ],
   "source": [
    "x.i"
   ]
  },
  {
   "cell_type": "code",
   "execution_count": null,
   "id": "32ec0870",
   "metadata": {},
   "outputs": [],
   "source": []
  }
 ],
 "metadata": {
  "kernelspec": {
   "display_name": "Python 3 (ipykernel)",
   "language": "python",
   "name": "python3"
  },
  "language_info": {
   "codemirror_mode": {
    "name": "ipython",
    "version": 3
   },
   "file_extension": ".py",
   "mimetype": "text/x-python",
   "name": "python",
   "nbconvert_exporter": "python",
   "pygments_lexer": "ipython3",
   "version": "3.10.9"
  }
 },
 "nbformat": 4,
 "nbformat_minor": 5
}
