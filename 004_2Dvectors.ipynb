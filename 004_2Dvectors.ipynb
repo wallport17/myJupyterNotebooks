{
 "cells": [
  {
   "cell_type": "code",
   "execution_count": 1,
   "id": "61347576",
   "metadata": {},
   "outputs": [],
   "source": [
    "import numpy as np"
   ]
  },
  {
   "cell_type": "code",
   "execution_count": 8,
   "id": "ef420264",
   "metadata": {},
   "outputs": [],
   "source": [
    "from numpy.linalg import norm"
   ]
  },
  {
   "cell_type": "code",
   "execution_count": 33,
   "id": "1492e855",
   "metadata": {},
   "outputs": [],
   "source": [
    " a = np.array([4,-2])\n",
    " b = np.array([-3, 5])\n",
    " \n",
    " c = a - b\n",
    " \n",
    " normC = norm(c, ord=2)\n",
    " normA = norm(a, ord=2)\n",
    " normB = norm(b, ord=2)\n",
    " normA_B = norm((a-b), ord=2)\n",
    " \n",
    " dotAB = np.dot(a,b)\n",
    "\n",
    " cos_angle = dotAB / (normA * normB)\n",
    " angle = np.arccos(cos_angle)"
   ]
  },
  {
   "cell_type": "code",
   "execution_count": 25,
   "id": "4841765d",
   "metadata": {},
   "outputs": [
    {
     "name": "stdout",
     "output_type": "stream",
     "text": [
      "[ 7 -7]\n"
     ]
    }
   ],
   "source": [
    "print(c)"
   ]
  },
  {
   "cell_type": "code",
   "execution_count": 26,
   "id": "fa8e0b92",
   "metadata": {},
   "outputs": [
    {
     "name": "stdout",
     "output_type": "stream",
     "text": [
      "9.899494936611665\n"
     ]
    }
   ],
   "source": [
    "print(normC)"
   ]
  },
  {
   "cell_type": "code",
   "execution_count": 27,
   "id": "f956d5f8",
   "metadata": {},
   "outputs": [
    {
     "name": "stdout",
     "output_type": "stream",
     "text": [
      "4.47213595499958\n"
     ]
    }
   ],
   "source": [
    "print(normA)"
   ]
  },
  {
   "cell_type": "code",
   "execution_count": 28,
   "id": "480d962f",
   "metadata": {},
   "outputs": [
    {
     "name": "stdout",
     "output_type": "stream",
     "text": [
      "5.830951894845301\n"
     ]
    }
   ],
   "source": [
    "print(normB)"
   ]
  },
  {
   "cell_type": "code",
   "execution_count": 29,
   "id": "74cad49a",
   "metadata": {},
   "outputs": [
    {
     "name": "stdout",
     "output_type": "stream",
     "text": [
      "9.899494936611665\n"
     ]
    }
   ],
   "source": [
    "print(normA_B)"
   ]
  },
  {
   "cell_type": "code",
   "execution_count": 35,
   "id": "b2b5056b",
   "metadata": {},
   "outputs": [
    {
     "name": "stdout",
     "output_type": "stream",
     "text": [
      "-22\n"
     ]
    }
   ],
   "source": [
    "print(dotAB)"
   ]
  },
  {
   "cell_type": "code",
   "execution_count": null,
   "id": "397c28ce",
   "metadata": {},
   "outputs": [],
   "source": []
  },
  {
   "cell_type": "code",
   "execution_count": null,
   "id": "bffd7f36",
   "metadata": {},
   "outputs": [],
   "source": []
  },
  {
   "cell_type": "code",
   "execution_count": null,
   "id": "27e316d5",
   "metadata": {},
   "outputs": [],
   "source": []
  },
  {
   "cell_type": "code",
   "execution_count": null,
   "id": "b2e91175",
   "metadata": {},
   "outputs": [],
   "source": []
  }
 ],
 "metadata": {
  "kernelspec": {
   "display_name": "Python 3 (ipykernel)",
   "language": "python",
   "name": "python3"
  },
  "language_info": {
   "codemirror_mode": {
    "name": "ipython",
    "version": 3
   },
   "file_extension": ".py",
   "mimetype": "text/x-python",
   "name": "python",
   "nbconvert_exporter": "python",
   "pygments_lexer": "ipython3",
   "version": "3.10.9"
  }
 },
 "nbformat": 4,
 "nbformat_minor": 5
}
